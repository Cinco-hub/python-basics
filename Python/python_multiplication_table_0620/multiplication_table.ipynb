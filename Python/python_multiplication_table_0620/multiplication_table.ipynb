{
 "cells": [
  {
   "cell_type": "markdown",
   "id": "a8b6996a-e273-4e18-a155-f732b40aeb22",
   "metadata": {},
   "source": [
    "# 九九乘法表"
   ]
  },
  {
   "cell_type": "code",
   "execution_count": 6,
   "id": "421f43a0-689e-4053-b7b3-b32241f440c9",
   "metadata": {
    "scrolled": true
   },
   "outputs": [
    {
     "name": "stdout",
     "output_type": "stream",
     "text": [
      "1\n",
      "2\n",
      "4\n",
      "3\n",
      "6\n",
      "9\n",
      "4\n",
      "8\n",
      "12\n",
      "16\n",
      "5\n",
      "10\n",
      "15\n",
      "20\n",
      "25\n",
      "6\n",
      "12\n",
      "18\n",
      "24\n",
      "30\n",
      "36\n",
      "7\n",
      "14\n",
      "21\n",
      "28\n",
      "35\n",
      "42\n",
      "49\n",
      "8\n",
      "16\n",
      "24\n",
      "32\n",
      "40\n",
      "48\n",
      "56\n",
      "64\n",
      "9\n",
      "18\n",
      "27\n",
      "36\n",
      "45\n",
      "54\n",
      "63\n",
      "72\n",
      "81\n"
     ]
    }
   ],
   "source": [
    "line = [1, 2, 3, 4, 5, 6, 7, 8, 9]\n",
    "row = [1, 2, 3, 4, 5, 6, 7, 8, 9]\n",
    "for i in range(0,9):                  #外层循环 - 控制1到9行\n",
    "    for j in range(0, i + 1):          #内层循环 - 控制当前行的列数\n",
    "        result = line[i] * row[j]\n",
    "        print(result)"
   ]
  },
  {
   "cell_type": "markdown",
   "id": "4e5ce150-f5b6-4a3f-927b-dc26d413d243",
   "metadata": {},
   "source": [
    "## 修改后："
   ]
  },
  {
   "cell_type": "code",
   "execution_count": 7,
   "id": "d70e5557-d1b7-4d6c-8922-c855662c2ffa",
   "metadata": {},
   "outputs": [
    {
     "name": "stdout",
     "output_type": "stream",
     "text": [
      "1×1=1\t\n",
      "1×2=2\t2×2=4\t\n",
      "1×3=3\t2×3=6\t3×3=9\t\n",
      "1×4=4\t2×4=8\t3×4=12\t4×4=16\t\n",
      "1×5=5\t2×5=10\t3×5=15\t4×5=20\t5×5=25\t\n",
      "1×6=6\t2×6=12\t3×6=18\t4×6=24\t5×6=30\t6×6=36\t\n",
      "1×7=7\t2×7=14\t3×7=21\t4×7=28\t5×7=35\t6×7=42\t7×7=49\t\n",
      "1×8=8\t2×8=16\t3×8=24\t4×8=32\t5×8=40\t6×8=48\t7×8=56\t8×8=64\t\n",
      "1×9=9\t2×9=18\t3×9=27\t4×9=36\t5×9=45\t6×9=54\t7×9=63\t8×9=72\t9×9=81\t\n"
     ]
    }
   ],
   "source": [
    "line = [1, 2, 3, 4, 5, 6, 7, 8, 9]\n",
    "row = [1, 2, 3, 4, 5, 6, 7, 8, 9]\n",
    "for i in range(0, 9):  # 改为从0开始索引\n",
    "    for j in range(0, i + 1):  # 改为从0开始索引\n",
    "        # 添加乘数显示\n",
    "        print(f\"{line[j]}×{row[i]}={line[j]*row[i]}\", end=\"\\t\")  # end=\"\\t\"保持同行显示（使用制表符对齐），\\t表示制表符\n",
    "    print()  # 在每行结束后换行"
   ]
  },
  {
   "cell_type": "markdown",
   "id": "72e3d7b3-3465-4cb5-9986-118a5e56a069",
   "metadata": {},
   "source": [
    "print(f\"内容\") 是 Python 中的一种特殊字符串写法，叫 **f-string**（格式化字符串字面值）。这是 Python 3.6 版本后加入的超实用功能！\n",
    "f\" \" 中的 f 表示\"format\"(格式化)，它让字符串有了超能力：\n",
    "\n",
    "* **在字符串内部直接插入变量**：用大括号 { } 包裹变量名\n",
    "* **直接计算表达式**：在大括号 { } 内写计算式\n",
    "* **自动转换为字符串**：无需手动用 str() 转换\n",
    "对比学习：\n",
    "普通字符串："
   ]
  },
  {
   "cell_type": "code",
   "execution_count": 8,
   "id": "06f9b22b-5a74-41d0-8feb-73c6be81b496",
   "metadata": {},
   "outputs": [
    {
     "name": "stdout",
     "output_type": "stream",
     "text": [
      "我叫小明，今年10岁\n"
     ]
    }
   ],
   "source": [
    "name = \"小明\"\n",
    "age = 10\n",
    "# 需要手动转换+拼接\n",
    "print(\"我叫\" + name + \"，今年\" + str(age) + \"岁\")"
   ]
  },
  {
   "cell_type": "markdown",
   "id": "f51e14b3-4b93-4983-81e2-bbcb7dde5587",
   "metadata": {},
   "source": [
    "f-string 写法："
   ]
  },
  {
   "cell_type": "code",
   "execution_count": 9,
   "id": "2007d3f7-9e1b-4eaf-abd8-92943f959ae0",
   "metadata": {},
   "outputs": [
    {
     "name": "stdout",
     "output_type": "stream",
     "text": [
      "我叫小明，今年10岁\n"
     ]
    }
   ],
   "source": [
    "name = \"小明\"\n",
    "age = 10\n",
    "# 直接在字符串里写变量\n",
    "print(f\"我叫{name}，今年{age}岁\")  "
   ]
  },
  {
   "cell_type": "markdown",
   "id": "afd58cc7-bb0a-4f8e-a313-83476cc68dee",
   "metadata": {},
   "source": [
    "## 更简化的写法："
   ]
  },
  {
   "cell_type": "code",
   "execution_count": 10,
   "id": "309cfd8e-797f-4a1f-bca1-94fe76a6d986",
   "metadata": {},
   "outputs": [
    {
     "name": "stdout",
     "output_type": "stream",
     "text": [
      "1×1=1\t\n",
      "1×2=2\t2×2=4\t\n",
      "1×3=3\t2×3=6\t3×3=9\t\n",
      "1×4=4\t2×4=8\t3×4=12\t4×4=16\t\n",
      "1×5=5\t2×5=10\t3×5=15\t4×5=20\t5×5=25\t\n",
      "1×6=6\t2×6=12\t3×6=18\t4×6=24\t5×6=30\t6×6=36\t\n",
      "1×7=7\t2×7=14\t3×7=21\t4×7=28\t5×7=35\t6×7=42\t7×7=49\t\n",
      "1×8=8\t2×8=16\t3×8=24\t4×8=32\t5×8=40\t6×8=48\t7×8=56\t8×8=64\t\n",
      "1×9=9\t2×9=18\t3×9=27\t4×9=36\t5×9=45\t6×9=54\t7×9=63\t8×9=72\t9×9=81\t\n"
     ]
    }
   ],
   "source": [
    "for i in range(1, 10):\n",
    "    for j in range(1, i + 1):\n",
    "        print(f\"{j}×{i}={j*i}\", end=\"\\t\")\n",
    "    print()"
   ]
  }
 ],
 "metadata": {
  "kernelspec": {
   "display_name": "我的学习环境",
   "language": "python",
   "name": "learning_env"
  },
  "language_info": {
   "codemirror_mode": {
    "name": "ipython",
    "version": 3
   },
   "file_extension": ".py",
   "mimetype": "text/x-python",
   "name": "python",
   "nbconvert_exporter": "python",
   "pygments_lexer": "ipython3",
   "version": "3.10.18"
  }
 },
 "nbformat": 4,
 "nbformat_minor": 5
}
