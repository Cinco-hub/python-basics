{
 "cells": [
  {
   "cell_type": "markdown",
   "id": "2fc04163-91e2-4487-bf63-e1a413112817",
   "metadata": {},
   "source": [
    "# TextAnalyzerKit"
   ]
  },
  {
   "cell_type": "markdown",
   "id": "d521321f-41e2-45dc-8a15-6ca5f98e3a83",
   "metadata": {},
   "source": [
    "| 步骤 | 对应你学过的Python操作 |\n",
    "| ------ | ------ |\n",
    "| 获取句子 | text = input(\"Enter text: \") |\n",
    "| 拆分单词 | words = text.split() |\n",
    "| 创建计数器 | count_dict = {} |\n",
    "| 检查更新计数 | for循环 + if/else + 字典操作 |\n",
    "| 显示结果 | print(count_dict) |"
   ]
  },
  {
   "cell_type": "code",
   "execution_count": 1,
   "id": "727c89e6-8998-4a68-88be-5625bce9ada6",
   "metadata": {},
   "outputs": [
    {
     "name": "stdin",
     "output_type": "stream",
     "text": [
      "Enter text:  apple banana apple\n"
     ]
    },
    {
     "name": "stdout",
     "output_type": "stream",
     "text": [
      "{'apple': 2, 'banana': 1}\n"
     ]
    }
   ],
   "source": [
    "text = input(\"Enter text: \")\n",
    "word = text.split()\n",
    "count_dict = {}\n",
    "for i in word:\n",
    "    if i in count_dict:\n",
    "        count_dict[i] = count_dict[i] + 1\n",
    "    else:\n",
    "        count_dict[i] = 1\n",
    "print(count_dict)"
   ]
  },
  {
   "cell_type": "markdown",
   "id": "4cb4180e-2036-4fce-bf88-615e0e784d82",
   "metadata": {},
   "source": [
    "## 可能的优化方向（不需要马上实现）：\n",
    "**处理大小写问题**  \n",
    "当前\"Apple\"和\"apple\"会被视为不同单词  \n",
    "可以在循环中添加：i = i.lower()将单词转为小写  \n",
    "**处理标点符号**  \n",
    "当前包含标点的单词(如\"apple,\")会被单独统计  \n",
    "可以添加：i = i.strip('.,!?;:\"')去掉常见标点  \n",
    "**使用get()方法简化代码**  \n",
    "循环部分可以简化为：  "
   ]
  },
  {
   "cell_type": "code",
   "execution_count": null,
   "id": "c3f79dcc-8e89-4a54-a691-e9e1dc32d4ac",
   "metadata": {},
   "outputs": [],
   "source": [
    "count_dict[i] = count_dict.get(i, 0) + 1  "
   ]
  },
  {
   "cell_type": "markdown",
   "id": "88c37854-e479-4151-860d-5d06fcb34a59",
   "metadata": {},
   "source": [
    "**输出格式化**  \n",
    "当前输出是原始字典格式，可以添加排序：  \n",
    "sorted(iterable, key=None, reverse=False) 是 Python 内置的排序函数  \n",
    "* iterable：需要排序的可迭代对象（如列表）\n",
    "* key：排序的依据（函数）\n",
    "* reverse：排序方向（默认False升序）"
   ]
  },
  {
   "cell_type": "code",
   "execution_count": null,
   "id": "c4bd405a-121f-4a51-a5ae-51f02cca00b0",
   "metadata": {},
   "outputs": [],
   "source": [
    "# 按单词字母顺序排序\n",
    "sorted_dict = sorted(count_dict.items())  # 返回(key, value)元组列表\n",
    "\n",
    "# 按频率从高到低排序\n",
    "sorted_dict = sorted(\n",
    "    count_dict.items(),\n",
    "    key=lambda x: x[1],  # 指定排序依据为第2个元素（频率）\n",
    "    reverse=True          # 降序排列\n",
    ")"
   ]
  },
  {
   "cell_type": "markdown",
   "id": "6c1886a2-ec6a-48b9-96e0-58b3c6c6bdc9",
   "metadata": {},
   "source": [
    "**items() 方法的作用**  \n",
    "当你对一个字典调用 items() 方法时，它会返回一个**特殊的视图对象**，这个对象包含了字典中所有的键值对（key-value pairs），每个键值对以**元组** (key, value) 的形式存在。  \n",
    "\n",
    "**为什么排序时需要 items()**  \n",
    "在字典排序中，items() 起着桥梁作用：  \n",
    "* **字典本身不能直接排序**  \n",
    "Python 字典本质上是无序的（在 Python 3.6+ 中插入顺序保留，但排序意义不同）  \n",
    "* **items() 创建可排序的数据结构**  \n",
    "它把字典转换为由 (key, value) 元组组成的列表形式  "
   ]
  },
  {
   "cell_type": "code",
   "execution_count": 8,
   "id": "441a0414-3ea0-4529-b07a-77666ceb2bf2",
   "metadata": {},
   "outputs": [
    {
     "name": "stdout",
     "output_type": "stream",
     "text": [
      "dict_items([('apple', 2), ('banana', 1)])\n"
     ]
    }
   ],
   "source": [
    "my_dict = {'apple': 2, 'banana': 1}\n",
    "\n",
    "# 使用 items() 获取键值对\n",
    "print(my_dict.items())  # 输出：dict_items([('apple', 2), ('banana', 1)])"
   ]
  },
  {
   "cell_type": "markdown",
   "id": "9f1f582b-95be-4129-851a-81df863f3b77",
   "metadata": {},
   "source": [
    "## 优化后的代码："
   ]
  },
  {
   "cell_type": "code",
   "execution_count": 5,
   "id": "d22c7e0a-bee7-4ac6-a745-289d33010d1b",
   "metadata": {},
   "outputs": [
    {
     "name": "stdin",
     "output_type": "stream",
     "text": [
      "Enter text:  Two roads diverged in a yellow wood, And sorry I could not travel both And be one traveler, long I stood And looked down one as far as I could To where it bent in the undergrowth;  Then took the other, as just as fair, And having perhaps the better claim, Because it was grassy and wanted wear; Though as for that the passing there Had worn them really about the same,  And both that morning equally lay In leaves no step had trodden black. Oh, I kept the first for another day! Yet knowing how way leads on to way, I doubted if I should ever come back.  I shall be telling this with a sigh Somewhere ages and ages hence: Two roads diverged in a wood, and I— I took the one less traveled by, And that has made all the difference.\n"
     ]
    },
    {
     "name": "stdout",
     "output_type": "stream",
     "text": [
      "a: 3\n",
      "about: 1\n",
      "ages: 2\n",
      "all: 1\n",
      "and: 9\n",
      "another: 1\n",
      "as: 5\n",
      "back: 1\n",
      "be: 2\n",
      "because: 1\n",
      "bent: 1\n",
      "better: 1\n",
      "black: 1\n",
      "both: 2\n",
      "by: 1\n",
      "claim: 1\n",
      "come: 1\n",
      "could: 2\n",
      "day: 1\n",
      "difference: 1\n",
      "diverged: 2\n",
      "doubted: 1\n",
      "down: 1\n",
      "equally: 1\n",
      "ever: 1\n",
      "fair: 1\n",
      "far: 1\n",
      "first: 1\n",
      "for: 2\n",
      "grassy: 1\n",
      "had: 2\n",
      "has: 1\n",
      "having: 1\n",
      "hence: 1\n",
      "how: 1\n",
      "i: 8\n",
      "if: 1\n",
      "in: 4\n",
      "it: 2\n",
      "i—: 1\n",
      "just: 1\n",
      "kept: 1\n",
      "knowing: 1\n",
      "lay: 1\n",
      "leads: 1\n",
      "leaves: 1\n",
      "less: 1\n",
      "long: 1\n",
      "looked: 1\n",
      "made: 1\n",
      "morning: 1\n",
      "no: 1\n",
      "not: 1\n",
      "oh: 1\n",
      "on: 1\n",
      "one: 3\n",
      "other: 1\n",
      "passing: 1\n",
      "perhaps: 1\n",
      "really: 1\n",
      "roads: 2\n",
      "same: 1\n",
      "shall: 1\n",
      "should: 1\n",
      "sigh: 1\n",
      "somewhere: 1\n",
      "sorry: 1\n",
      "step: 1\n",
      "stood: 1\n",
      "telling: 1\n",
      "that: 3\n",
      "the: 8\n",
      "them: 1\n",
      "then: 1\n",
      "there: 1\n",
      "this: 1\n",
      "though: 1\n",
      "to: 2\n",
      "took: 2\n",
      "travel: 1\n",
      "traveled: 1\n",
      "traveler: 1\n",
      "trodden: 1\n",
      "two: 2\n",
      "undergrowth: 1\n",
      "wanted: 1\n",
      "was: 1\n",
      "way: 2\n",
      "wear: 1\n",
      "where: 1\n",
      "with: 1\n",
      "wood: 2\n",
      "worn: 1\n",
      "yellow: 1\n",
      "yet: 1\n"
     ]
    }
   ],
   "source": [
    "text = input(\"Enter text: \")\n",
    "word = text.split()\n",
    "count_dict = {}\n",
    "for i in word:\n",
    "    i = i.strip(',.!?;:\"')  #strip()方法会移除字符串开头和末尾的这些字符\n",
    "    i = i.lower()\n",
    "    count_dict[i] = count_dict.get(i, 0) + 1  #dict.get(key, default)方法用于获取指定键的值\n",
    "for word, count in sorted(count_dict.items()): #按单词字母顺序排序\n",
    "    print(f\"{word}: {count}\")"
   ]
  },
  {
   "cell_type": "markdown",
   "id": "670c2aea-bd5b-41a3-b3ba-b54804412d60",
   "metadata": {},
   "source": [
    "### The Road Not Taken\n",
    "Two roads diverged in a yellow wood,  \n",
    "And sorry I could not travel both  \n",
    "And be one traveler, long I stood  \n",
    "And looked down one as far as I could  \n",
    "To where it bent in the undergrowth;  \n",
    "\n",
    "Then took the other, as just as fair,  \n",
    "And having perhaps the better claim,  \n",
    "Because it was grassy and wanted wear;  \n",
    "Though as for that the passing there  \n",
    "Had worn them really about the same,  \n",
    "\n",
    "And both that morning equally lay  \n",
    "In leaves no step had trodden black.  \n",
    "Oh, I kept the first for another day!  \n",
    "Yet knowing how way leads on to way,  \n",
    "I doubted if I should ever come back.  \n",
    "\n",
    "I shall be telling this with a sigh  \n",
    "Somewhere ages and ages hence:  \n",
    "Two roads diverged in a wood, and I—  \n",
    "I took the one less traveled by,  \n",
    "And that has made all the difference.  "
   ]
  }
 ],
 "metadata": {
  "kernelspec": {
   "display_name": "我的学习环境",
   "language": "python",
   "name": "learning_env"
  },
  "language_info": {
   "codemirror_mode": {
    "name": "ipython",
    "version": 3
   },
   "file_extension": ".py",
   "mimetype": "text/x-python",
   "name": "python",
   "nbconvert_exporter": "python",
   "pygments_lexer": "ipython3",
   "version": "3.10.18"
  }
 },
 "nbformat": 4,
 "nbformat_minor": 5
}
