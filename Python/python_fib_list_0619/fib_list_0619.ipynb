{
 "cells": [
  {
   "cell_type": "markdown",
   "id": "d5501ed5-0d48-4277-b3b5-42d154fd4ef7",
   "metadata": {},
   "source": [
    "# 斐波那契数列（生成前n项的列表）"
   ]
  },
  {
   "cell_type": "code",
   "execution_count": 4,
   "id": "2276cf39-7bd9-46f8-b757-a9ae92d23ba9",
   "metadata": {},
   "outputs": [
    {
     "name": "stdin",
     "output_type": "stream",
     "text": [
      " 15\n"
     ]
    },
    {
     "name": "stdout",
     "output_type": "stream",
     "text": [
      "[0, 1, 1, 2, 3, 5, 8, 13, 21, 34, 55, 89, 144, 233, 377]\n"
     ]
    }
   ],
   "source": [
    "m = input()\n",
    "n = int(m)\n",
    "fib_list = []     # 空列表存储结果\n",
    "a, b = 0, 1        #a = 0, b = 1 是元组赋值，应改为 a, b = 0, 1（Python的并行赋值语法）\n",
    "if n == 0:         #if n = 0: 应改为 if n == 0:（比较运算符）\n",
    "    print([])  # 打印空列表而不是使用return\n",
    "elif n >= 1:\n",
    "    for i in range(n):   # 循环n次; 使用不同的循环变量名i\n",
    "        fib_list.append(a)\n",
    "        a, b = b, a + b\n",
    "    print(fib_list)     # 循环结束后打印最终结果"
   ]
  },
  {
   "cell_type": "markdown",
   "id": "3315648b-a110-4726-b1ed-ae607780308d",
   "metadata": {},
   "source": [
    "## 当前代码逻辑：\n",
    "1. 读取输入并转换为整数n。\n",
    "2. 初始化空列表fib_lists和两个变量a=0, b=1。\n",
    "3. 如果n==0，打印空列表[]。\n",
    "4. 如果n>=1，循环n次，每次将a添加到列表，然后更新a和b（将b赋值给a，a+b赋值给b）。\n",
    "5. 循环结束后打印列表。"
   ]
  },
  {
   "cell_type": "markdown",
   "id": "edbf4a6b-36c9-4e2d-8c53-5d367605ec49",
   "metadata": {},
   "source": [
    "## 添加输入验证和异常处理后的代码："
   ]
  },
  {
   "cell_type": "code",
   "execution_count": 5,
   "id": "f12f759f-6f88-4e5d-9691-7879149a0016",
   "metadata": {},
   "outputs": [
    {
     "name": "stdin",
     "output_type": "stream",
     "text": [
      "请输入要生成的斐波那契数列项数:  10\n"
     ]
    },
    {
     "name": "stdout",
     "output_type": "stream",
     "text": [
      "斐波那契数列前10项为: [0, 1, 1, 2, 3, 5, 8, 13, 21, 34]\n"
     ]
    }
   ],
   "source": [
    "try:\n",
    "    m = input(\"请输入要生成的斐波那契数列项数: \")\n",
    "    n = int(m)  # 尝试转换为整数\n",
    "    \n",
    "    # 检查是否为非负数\n",
    "    if n < 0:\n",
    "        raise ValueError(\"项数不能为负数\")\n",
    "    \n",
    "    fib_list = []\n",
    "    a, b = 0, 1\n",
    "    \n",
    "    for i in range(n):\n",
    "        fib_list.append(a)\n",
    "        a, b = b, a + b\n",
    "    \n",
    "    print(f\"斐波那契数列前{n}项为:\", fib_list)\n",
    "\n",
    "except ValueError as e:\n",
    "    # 处理转换失败或负数输入\n",
    "    if \"'\" in str(e):  # 转换失败的错误信息通常包含引号\n",
    "        print(f\"错误: 您输入的 '{m}' 不是有效的整数\")\n",
    "    else:\n",
    "        print(f\"错误: {e} (输入必须是非负整数)\")"
   ]
  }
 ],
 "metadata": {
  "kernelspec": {
   "display_name": "我的学习环境",
   "language": "python",
   "name": "learning_env"
  },
  "language_info": {
   "codemirror_mode": {
    "name": "ipython",
    "version": 3
   },
   "file_extension": ".py",
   "mimetype": "text/x-python",
   "name": "python",
   "nbconvert_exporter": "python",
   "pygments_lexer": "ipython3",
   "version": "3.10.18"
  }
 },
 "nbformat": 4,
 "nbformat_minor": 5
}
